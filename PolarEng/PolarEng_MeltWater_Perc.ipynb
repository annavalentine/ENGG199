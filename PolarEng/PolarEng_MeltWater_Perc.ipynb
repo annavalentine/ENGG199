{
 "cells": [
  {
   "cell_type": "markdown",
   "id": "4b7f627f",
   "metadata": {},
   "source": [
    "## Anna Valentine\n",
    "### ENGG139.2: Polar Engineering, Polar Hydro\n",
    "### HW3: SEA ICE FORCING"
   ]
  },
  {
   "cell_type": "code",
   "execution_count": 60,
   "id": "b414af6d",
   "metadata": {},
   "outputs": [],
   "source": [
    "import matplotlib.pyplot as plt\n",
    "import pandas as pd\n",
    "import numpy as np"
   ]
  },
  {
   "cell_type": "code",
   "execution_count": 61,
   "id": "119ebc36",
   "metadata": {},
   "outputs": [],
   "source": [
    "### make plots pretty: \n",
    "import seaborn as sns\n",
    "## let's apply seasobrn as our default theme\n",
    "sns.set_theme()"
   ]
  },
  {
   "cell_type": "code",
   "execution_count": 62,
   "id": "78ca304c",
   "metadata": {},
   "outputs": [],
   "source": [
    "## import csv into pandas dataframe\n",
    "sd = pd.read_csv('SolarDecl.csv')"
   ]
  },
  {
   "cell_type": "code",
   "execution_count": 63,
   "id": "1391c4d0",
   "metadata": {},
   "outputs": [
    {
     "data": {
      "text/html": [
       "<div>\n",
       "<style scoped>\n",
       "    .dataframe tbody tr th:only-of-type {\n",
       "        vertical-align: middle;\n",
       "    }\n",
       "\n",
       "    .dataframe tbody tr th {\n",
       "        vertical-align: top;\n",
       "    }\n",
       "\n",
       "    .dataframe thead th {\n",
       "        text-align: right;\n",
       "    }\n",
       "</style>\n",
       "<table border=\"1\" class=\"dataframe\">\n",
       "  <thead>\n",
       "    <tr style=\"text-align: right;\">\n",
       "      <th></th>\n",
       "      <th>Date</th>\n",
       "      <th>Julian Day</th>\n",
       "      <th>Declination</th>\n",
       "    </tr>\n",
       "  </thead>\n",
       "  <tbody>\n",
       "    <tr>\n",
       "      <th>0</th>\n",
       "      <td>1/15/2023</td>\n",
       "      <td>15</td>\n",
       "      <td>-21.272709</td>\n",
       "    </tr>\n",
       "    <tr>\n",
       "      <th>1</th>\n",
       "      <td>2/15/2023</td>\n",
       "      <td>46</td>\n",
       "      <td>-12.952339</td>\n",
       "    </tr>\n",
       "    <tr>\n",
       "      <th>2</th>\n",
       "      <td>3/15/2023</td>\n",
       "      <td>74</td>\n",
       "      <td>-2.436834</td>\n",
       "    </tr>\n",
       "    <tr>\n",
       "      <th>3</th>\n",
       "      <td>4/15/2023</td>\n",
       "      <td>105</td>\n",
       "      <td>9.480771</td>\n",
       "    </tr>\n",
       "    <tr>\n",
       "      <th>4</th>\n",
       "      <td>5/15/2023</td>\n",
       "      <td>135</td>\n",
       "      <td>18.673624</td>\n",
       "    </tr>\n",
       "    <tr>\n",
       "      <th>5</th>\n",
       "      <td>6/15/2023</td>\n",
       "      <td>166</td>\n",
       "      <td>23.285925</td>\n",
       "    </tr>\n",
       "    <tr>\n",
       "      <th>6</th>\n",
       "      <td>7/15/2023</td>\n",
       "      <td>196</td>\n",
       "      <td>21.663912</td>\n",
       "    </tr>\n",
       "    <tr>\n",
       "      <th>7</th>\n",
       "      <td>8/15/2023</td>\n",
       "      <td>227</td>\n",
       "      <td>14.300517</td>\n",
       "    </tr>\n",
       "    <tr>\n",
       "      <th>8</th>\n",
       "      <td>9/15/2023</td>\n",
       "      <td>258</td>\n",
       "      <td>3.343032</td>\n",
       "    </tr>\n",
       "    <tr>\n",
       "      <th>9</th>\n",
       "      <td>10/15/2023</td>\n",
       "      <td>288</td>\n",
       "      <td>-8.217747</td>\n",
       "    </tr>\n",
       "    <tr>\n",
       "      <th>10</th>\n",
       "      <td>11/15/2023</td>\n",
       "      <td>319</td>\n",
       "      <td>-18.303133</td>\n",
       "    </tr>\n",
       "    <tr>\n",
       "      <th>11</th>\n",
       "      <td>12/15/2023</td>\n",
       "      <td>349</td>\n",
       "      <td>-23.219424</td>\n",
       "    </tr>\n",
       "  </tbody>\n",
       "</table>\n",
       "</div>"
      ],
      "text/plain": [
       "          Date  Julian Day  Declination\n",
       "0    1/15/2023          15   -21.272709\n",
       "1    2/15/2023          46   -12.952339\n",
       "2    3/15/2023          74    -2.436834\n",
       "3    4/15/2023         105     9.480771\n",
       "4    5/15/2023         135    18.673624\n",
       "5    6/15/2023         166    23.285925\n",
       "6    7/15/2023         196    21.663912\n",
       "7    8/15/2023         227    14.300517\n",
       "8    9/15/2023         258     3.343032\n",
       "9   10/15/2023         288    -8.217747\n",
       "10  11/15/2023         319   -18.303133\n",
       "11  12/15/2023         349   -23.219424"
      ]
     },
     "execution_count": 63,
     "metadata": {},
     "output_type": "execute_result"
    }
   ],
   "source": [
    "sd"
   ]
  },
  {
   "cell_type": "markdown",
   "id": "8cf0f998",
   "metadata": {},
   "source": [
    "### Calculations"
   ]
  },
  {
   "cell_type": "code",
   "execution_count": 64,
   "id": "4de7e107",
   "metadata": {},
   "outputs": [],
   "source": [
    "#### I loaded in with Excel, so let's just use our declination angle now: \n",
    "## convert to theta\n",
    "theta_eq = []\n",
    "for d in sd['Declination']: theta_eq.append(70 - d)"
   ]
  },
  {
   "cell_type": "code",
   "execution_count": 65,
   "id": "e753959b",
   "metadata": {},
   "outputs": [
    {
     "data": {
      "text/plain": [
       "[91.27270936,\n",
       " 82.95233888,\n",
       " 72.43683372699999,\n",
       " 60.519229042,\n",
       " 51.32637642,\n",
       " 46.7140747,\n",
       " 48.33608779,\n",
       " 55.699483459999996,\n",
       " 66.65696805,\n",
       " 78.217746935,\n",
       " 88.30313282,\n",
       " 93.21942386]"
      ]
     },
     "execution_count": 65,
     "metadata": {},
     "output_type": "execute_result"
    }
   ],
   "source": [
    "theta_eq"
   ]
  },
  {
   "cell_type": "code",
   "execution_count": 66,
   "id": "880784fd",
   "metadata": {
    "scrolled": true
   },
   "outputs": [],
   "source": [
    "## now calculate R_toa\n",
    "def R_toa_calc(theta_list):\n",
    "    R_toa = []\n",
    "    for th in theta_list: \n",
    "        if th < 90:\n",
    "            R_toa.append(1.36*0.7*((1/np.cos(th*(np.pi/180)))**0.678))\n",
    "        else:\n",
    "            R_toa.append(0)\n",
    "    return R_toa"
   ]
  },
  {
   "cell_type": "code",
   "execution_count": 67,
   "id": "36b3562e",
   "metadata": {},
   "outputs": [],
   "source": [
    "R_toa = R_toa_calc(theta_eq)"
   ]
  },
  {
   "cell_type": "code",
   "execution_count": 68,
   "id": "f9e44f48",
   "metadata": {},
   "outputs": [
    {
     "data": {
      "text/plain": [
       "[0,\n",
       " 3.9483211288005626,\n",
       " 2.1450094665350212,\n",
       " 1.5395931132737646,\n",
       " 1.3094390094075279,\n",
       " 1.2296002770749637,\n",
       " 1.2556545697469335,\n",
       " 1.4044729127190698,\n",
       " 1.7833015444679323,\n",
       " 2.795306763599581,\n",
       " 10.351085509851499,\n",
       " 0]"
      ]
     },
     "execution_count": 68,
     "metadata": {},
     "output_type": "execute_result"
    }
   ],
   "source": [
    "R_toa"
   ]
  },
  {
   "cell_type": "code",
   "execution_count": 69,
   "id": "6a9d6412",
   "metadata": {},
   "outputs": [],
   "source": [
    "## replace nan with 0 \n",
    "R_toa = [0 if x != x else x for x in R_toa]"
   ]
  },
  {
   "cell_type": "code",
   "execution_count": 70,
   "id": "bc845dc6",
   "metadata": {},
   "outputs": [],
   "source": [
    "### calculate forcing\n",
    "fa = 0.75\n",
    "d_albedo = 0.3\n",
    "forcing = []\n",
    "for r in R_toa: forcing.append(r*fa*d_albedo)"
   ]
  },
  {
   "cell_type": "code",
   "execution_count": 71,
   "id": "889f290c",
   "metadata": {},
   "outputs": [
    {
     "data": {
      "text/plain": [
       "[0.0,\n",
       " 0.8883722539801265,\n",
       " 0.48262712997037976,\n",
       " 0.346408450486597,\n",
       " 0.29462377711669374,\n",
       " 0.27666006234186685,\n",
       " 0.28252227819306003,\n",
       " 0.31600640536179064,\n",
       " 0.40124284750528477,\n",
       " 0.6289440218099057,\n",
       " 2.3289942397165873,\n",
       " 0.0]"
      ]
     },
     "execution_count": 71,
     "metadata": {},
     "output_type": "execute_result"
    }
   ],
   "source": [
    "forcing"
   ]
  },
  {
   "cell_type": "code",
   "execution_count": 72,
   "id": "46dbb22b",
   "metadata": {},
   "outputs": [
    {
     "name": "stdout",
     "output_type": "stream",
     "text": [
      "0.2917295819655725\n"
     ]
    }
   ],
   "source": [
    "# okay so average over our summer months: \n",
    "f_avg = (forcing[5] + forcing[6] + forcing[7])/3\n",
    "print(f_avg)"
   ]
  },
  {
   "cell_type": "code",
   "execution_count": 73,
   "id": "5df3c8f0",
   "metadata": {},
   "outputs": [
    {
     "name": "stdout",
     "output_type": "stream",
     "text": [
      "the average global forcing due to ice sheet loss is 0.48621596994262095  W/m^2\n"
     ]
    }
   ],
   "source": [
    "## W/m^2\n",
    "tot = f_avg * (3/12) * ((3.4*10**6)/(5.1*10**8)) * 1000  # find total forcing:\n",
    "print(\"the average global forcing due to ice sheet loss is\", tot, \" W/m^2\")\n"
   ]
  },
  {
   "cell_type": "markdown",
   "id": "4c3dfee7",
   "metadata": {},
   "source": [
    "### Commentary: \n",
    "this is much smaller than the change in forcing due to to CO2 (about 3.71 w/m^2). Although small, this is still a somewhat significant amount of forcing, and the change in sea ice could lead to other feedback systems that increase forcing. "
   ]
  },
  {
   "cell_type": "markdown",
   "id": "454ba17d",
   "metadata": {},
   "source": [
    "## PART 2: "
   ]
  },
  {
   "cell_type": "code",
   "execution_count": 74,
   "id": "069ad69d",
   "metadata": {},
   "outputs": [],
   "source": [
    "### find R_toa for 44 and 65 lat: \n",
    "#### I loaded in with Excel, so let's just use our declination angle now: \n",
    "## convert to theta\n",
    "theta_44 = []\n",
    "for d in sd['Declination']: theta_44.append(44 - d)\n",
    "    \n",
    "theta_65 = []\n",
    "for d in sd['Declination']: theta_65.append(65 - d)"
   ]
  },
  {
   "cell_type": "code",
   "execution_count": 75,
   "id": "27396169",
   "metadata": {},
   "outputs": [],
   "source": [
    "## Calculate R_toa\n",
    "R_toa_44 = R_toa_calc(theta_44)\n",
    "R_toa_65 = R_toa_calc(theta_65)"
   ]
  },
  {
   "cell_type": "code",
   "execution_count": 76,
   "id": "559a7430",
   "metadata": {
    "scrolled": true
   },
   "outputs": [],
   "source": [
    "### calculate Rs, and convert to MJ/ m^2 *day\n",
    "Rs_44 = []\n",
    "for rt in R_toa_44: Rs_44.append(np.sqrt(fa)*rt*(86400*.001))\n",
    "\n",
    "Rs_65 = []\n",
    "for rt in R_toa_65: Rs_65.append(np.sqrt(fa)*rt*86400*.001)"
   ]
  },
  {
   "cell_type": "code",
   "execution_count": 77,
   "id": "36580638",
   "metadata": {},
   "outputs": [],
   "source": [
    "### calculate E0\n",
    "Ka = 0.0123\n",
    "T_max = 5  # deg C\n",
    "\n",
    "E0_44 = []\n",
    "for rs in Rs_44: E0_44.append((Ka*(23.89*rs + 50)*T_max)/(T_max + 15))\n",
    "    \n",
    "E0_65 = []\n",
    "for rs in Rs_65: E0_65.append((Ka*(23.89*rs + 50)*T_max)/(T_max + 15))"
   ]
  },
  {
   "cell_type": "markdown",
   "id": "3de63136",
   "metadata": {},
   "source": [
    "### Snowmelt"
   ]
  },
  {
   "cell_type": "code",
   "execution_count": 78,
   "id": "05941ad7",
   "metadata": {},
   "outputs": [
    {
     "name": "stdout",
     "output_type": "stream",
     "text": [
      "4.35\n"
     ]
    }
   ],
   "source": [
    "Cm = 1.74 ## mm/ degree days * deg C\n",
    "T_snow = 0 ## deg C\n",
    "T_air = 2.5 ## deg C\n",
    "\n",
    "M = Cm*(T_air - T_snow)\n",
    "print(M)"
   ]
  },
  {
   "cell_type": "markdown",
   "id": "a135be40",
   "metadata": {},
   "source": [
    "### plot"
   ]
  },
  {
   "cell_type": "code",
   "execution_count": 81,
   "id": "e8cc837e",
   "metadata": {},
   "outputs": [],
   "source": [
    "dates = ['Jan', 'Feb', 'Mar', 'Apr', 'May', 'Jun', 'Jul', 'Aug', 'Sep', 'Nov','Oct', 'Dec']"
   ]
  },
  {
   "cell_type": "code",
   "execution_count": 89,
   "id": "4b2799b3",
   "metadata": {},
   "outputs": [
    {
     "data": {
      "text/plain": [
       "Text(0.5, 1.0, 'E0 Values over year')"
      ]
     },
     "execution_count": 89,
     "metadata": {},
     "output_type": "execute_result"
    },
    {
     "data": {
      "image/png": "[encoded data removed]",
      "text/plain": [
       "<Figure size 640x480 with 1 Axes>"
      ]
     },
     "metadata": {},
     "output_type": "display_data"
    }
   ],
   "source": [
    "plt.plot(dates, E0_44, label = \"Lattitude 44\")\n",
    "plt.plot(dates, E0_65, label = \"Lattitude 65\")\n",
    "plt.axhline(y=M, color='r', linestyle='-', label= \"Snowmelt\")  \n",
    "plt.legend()\n",
    "plt.ylim(0, 40)\n",
    "plt.ylabel(\"E0 (mm/day)\")\n",
    "plt.title(\"E0 Values over year\")"
   ]
  },
  {
   "cell_type": "markdown",
   "id": "8e0d475d",
   "metadata": {},
   "source": [
    "### explanation of how earlier snowmelt events may impact freshwater supply at each latitude.\n",
    "Looking at our plots, if snowmelt occurs earlier in the year, then we might see a shift where a high rate of snowmelt coincides with high evaporation rates, and we will see that there is less freshwater infiltrating into streams and rivers. This would be more of an extreme affect at latitude of 65. "
   ]
  },
  {
   "cell_type": "markdown",
   "id": "326178d9",
   "metadata": {},
   "source": [
    "## Salty Briny Porosity"
   ]
  },
  {
   "cell_type": "code",
   "execution_count": 48,
   "id": "24ac6c5c",
   "metadata": {},
   "outputs": [],
   "source": [
    "temps = np.arange(-10, 1, 1)"
   ]
  },
  {
   "cell_type": "code",
   "execution_count": 49,
   "id": "2c4349e3",
   "metadata": {},
   "outputs": [],
   "source": [
    "coeff = [-3.9921, -22.700, -1.0015, -0.019956]"
   ]
  },
  {
   "cell_type": "code",
   "execution_count": 50,
   "id": "62c5ff6e",
   "metadata": {},
   "outputs": [],
   "source": [
    "s_b_calc = lambda T: coeff[0] + coeff[1]*T + coeff[2]*(T**2) + coeff[3]*(T**3)\n",
    "s_brine = s_b_calc(temps)"
   ]
  },
  {
   "cell_type": "code",
   "execution_count": 51,
   "id": "9fbf15ca",
   "metadata": {},
   "outputs": [],
   "source": [
    "## density of brine\n",
    "rb_calc = lambda s_brine: 1000 + 0.9999*s_brine\n",
    "rho_brine = rb_calc(s_brine)"
   ]
  },
  {
   "cell_type": "code",
   "execution_count": 52,
   "id": "fa35fb1e",
   "metadata": {},
   "outputs": [],
   "source": [
    "### find rho_salt ice\n",
    "rho_fi = 917 # g/m^3\n",
    "S_si = 5 ## ppt\n",
    "\n",
    "rho_si = lambda rho_b, s_b : (rho_fi*rho_b*s_b)/(rho_b*s_b - S_si*(rho_b- rho_fi))\n",
    "rho_salt_ice = rho_si(rho_brine, s_brine)"
   ]
  },
  {
   "cell_type": "code",
   "execution_count": 53,
   "id": "e87d193d",
   "metadata": {},
   "outputs": [],
   "source": [
    "### finally, we can find porosity: \n",
    "porosity = lambda r_si, s_si, r_b, s_b: (r_si*s_si)/(r_b*s_b)\n",
    "\n",
    "n = porosity(rho_salt_ice, S_si, rho_brine, s_brine)"
   ]
  },
  {
   "cell_type": "code",
   "execution_count": 91,
   "id": "a0c5a701",
   "metadata": {},
   "outputs": [
    {
     "data": {
      "text/plain": [
       "Text(0.5, 1.0, 'Sea Ice Porosity vs. Temp')"
      ]
     },
     "execution_count": 91,
     "metadata": {},
     "output_type": "execute_result"
    },
    {
     "data": {
      "image/png": "[encoded data removed]",
      "text/plain": [
       "<Figure size 640x480 with 1 Axes>"
      ]
     },
     "metadata": {},
     "output_type": "display_data"
    }
   ],
   "source": [
    "plt.plot(temps[:-1], n[:-1])\n",
    "plt.xlabel(\"temps (deg C)\")\n",
    "plt.ylabel(\"n - porosity\")\n",
    "plt.title(\"Sea Ice Porosity vs. Temp\")"
   ]
  },
  {
   "cell_type": "markdown",
   "id": "d2a78f78",
   "metadata": {},
   "source": [
    "### a.) classic percolation theory:\n",
    "With classic percolation theory, percolation should happen at porosities around 20-25%, so according to our data, this would be a temperature of about -1 deg celsius. "
   ]
  },
  {
   "cell_type": "markdown",
   "id": "f019a9c5",
   "metadata": {},
   "source": [
    "### b.) If Golden et al. (1998):\n",
    "According to Golden et. al. the porosity for ice to become permeable is closer to 5%, which would occur at about -6.5 degrees celsius. "
   ]
  },
  {
   "cell_type": "code",
   "execution_count": null,
   "id": "ed09869e",
   "metadata": {},
   "outputs": [],
   "source": []
  }
 ],
 "metadata": {
  "kernelspec": {
   "display_name": "Python 3 (ipykernel)",
   "language": "python",
   "name": "python3"
  },
  "language_info": {
   "codemirror_mode": {
    "name": "ipython",
    "version": 3
   },
   "file_extension": ".py",
   "mimetype": "text/x-python",
   "name": "python",
   "nbconvert_exporter": "python",
   "pygments_lexer": "ipython3",
   "version": "3.8.12"
  }
 },
 "nbformat": 4,
 "nbformat_minor": 5
}
