{
 "cells": [
  {
   "cell_type": "markdown",
   "id": "4b7f627f",
   "metadata": {},
   "source": [
    "## Anna Valentine\n",
    "### ENGG139.2: Polar Engineering, Polar Hydro\n",
    "### HW3: SEA ICE FORCING"
   ]
  },
  {
   "cell_type": "code",
   "execution_count": 2,
   "id": "b414af6d",
   "metadata": {},
   "outputs": [],
   "source": [
    "import matplotlib.pyplot as plt\n",
    "import pandas as pd\n",
    "import numpy as np"
   ]
  },
  {
   "cell_type": "code",
   "execution_count": 7,
   "id": "c1ccb0cf",
   "metadata": {},
   "outputs": [],
   "source": [
    "## import csv into pandas dataframe\n",
    "sd = pd.read_excel('SolarDeclination.xlsm')"
   ]
  },
  {
   "cell_type": "code",
   "execution_count": 6,
   "id": "d9b5f050",
   "metadata": {
    "scrolled": true
   },
   "outputs": [
    {
     "data": {
      "text/html": [
       "<div>\n",
       "<style scoped>\n",
       "    .dataframe tbody tr th:only-of-type {\n",
       "        vertical-align: middle;\n",
       "    }\n",
       "\n",
       "    .dataframe tbody tr th {\n",
       "        vertical-align: top;\n",
       "    }\n",
       "\n",
       "    .dataframe thead th {\n",
       "        text-align: right;\n",
       "    }\n",
       "</style>\n",
       "<table border=\"1\" class=\"dataframe\">\n",
       "  <thead>\n",
       "    <tr style=\"text-align: right;\">\n",
       "      <th></th>\n",
       "    </tr>\n",
       "  </thead>\n",
       "  <tbody>\n",
       "  </tbody>\n",
       "</table>\n",
       "</div>"
      ],
      "text/plain": [
       "Empty DataFrame\n",
       "Columns: []\n",
       "Index: []"
      ]
     },
     "execution_count": 6,
     "metadata": {},
     "output_type": "execute_result"
    }
   ],
   "source": [
    "## let's see that the tables were loaded in correctly\n",
    "sd"
   ]
  },
  {
   "cell_type": "code",
   "execution_count": null,
   "id": "272f46e2",
   "metadata": {},
   "outputs": [],
   "source": [
    "### it looks like this is an excel function, and I am having trouble using the excel function, so I am goin\n",
    "### to just calculate dat of year here: "
   ]
  },
  {
   "cell_type": "markdown",
   "id": "8cf0f998",
   "metadata": {},
   "source": [
    "### first, what days of the year do I need to use: "
   ]
  },
  {
   "cell_type": "code",
   "execution_count": 29,
   "id": "c111f6de",
   "metadata": {},
   "outputs": [],
   "source": [
    "import datetime\n",
    "YEAR = 2022\n",
    "DAY_OF_YEAR = 258\n",
    "d = datetime.date(YEAR, 1, 1) + datetime.timedelta(DAY_OF_YEAR - 1)"
   ]
  },
  {
   "cell_type": "code",
   "execution_count": 30,
   "id": "45804b3b",
   "metadata": {},
   "outputs": [],
   "source": [
    "### julian days\n",
    "d = [196, 230, 258]"
   ]
  },
  {
   "cell_type": "code",
   "execution_count": 33,
   "id": "5022f452",
   "metadata": {},
   "outputs": [],
   "source": [
    "## calculate approximate declination: \n",
    "theta = 23.5\n",
    "C = 360\n",
    "dr = 172\n",
    "dy = 365\n",
    "\n",
    "delta = []\n",
    "for day in d: delta.append(theta*np.cos(C*(day - dr)/dy))"
   ]
  },
  {
   "cell_type": "code",
   "execution_count": null,
   "id": "8ab89485",
   "metadata": {},
   "outputs": [],
   "source": [
    "## now calculate forcing: \n",
    "fa = 0.75\n",
    "d_alb = 0.35 - 0.005\n"
   ]
  },
  {
   "cell_type": "markdown",
   "id": "4c3dfee7",
   "metadata": {},
   "source": [
    "### calculate temp: "
   ]
  },
  {
   "cell_type": "markdown",
   "id": "e040c0bb",
   "metadata": {},
   "source": [
    "### calculate H sat "
   ]
  },
  {
   "cell_type": "markdown",
   "id": "457ce778",
   "metadata": {},
   "source": [
    "### Commentary: \n",
    "It appears that the calculated model fit the Dansgaard data fairly well, our model may be slightly shifted down in temperature, but overall the trend fits and is within the scale of magnitude of observed. "
   ]
  }
 ],
 "metadata": {
  "kernelspec": {
   "display_name": "Python 3 (ipykernel)",
   "language": "python",
   "name": "python3"
  },
  "language_info": {
   "codemirror_mode": {
    "name": "ipython",
    "version": 3
   },
   "file_extension": ".py",
   "mimetype": "text/x-python",
   "name": "python",
   "nbconvert_exporter": "python",
   "pygments_lexer": "ipython3",
   "version": "3.8.12"
  }
 },
 "nbformat": 4,
 "nbformat_minor": 5
}
