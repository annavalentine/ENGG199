{
 "cells": [
  {
   "cell_type": "markdown",
   "id": "4b7f627f",
   "metadata": {},
   "source": [
    "## Anna Valentine\n",
    "### ENGG139.2: Polar Engineering, Polar Hydro\n",
    "### HW3: SEA ICE FORCING"
   ]
  },
  {
   "cell_type": "code",
   "execution_count": 2,
   "id": "b414af6d",
   "metadata": {},
   "outputs": [],
   "source": [
    "import matplotlib.pyplot as plt\n",
    "import pandas as pd\n",
    "import numpy as np"
   ]
  },
  {
   "cell_type": "code",
   "execution_count": 7,
   "id": "c1ccb0cf",
   "metadata": {},
   "outputs": [],
   "source": [
    "## import csv into pandas dataframe\n",
    "sd = pd.read_excel('SolarDeclination.xlsm')"
   ]
  },
  {
   "cell_type": "code",
   "execution_count": 6,
   "id": "d9b5f050",
   "metadata": {
    "scrolled": true
   },
   "outputs": [
    {
     "data": {
      "text/html": [
       "<div>\n",
       "<style scoped>\n",
       "    .dataframe tbody tr th:only-of-type {\n",
       "        vertical-align: middle;\n",
       "    }\n",
       "\n",
       "    .dataframe tbody tr th {\n",
       "        vertical-align: top;\n",
       "    }\n",
       "\n",
       "    .dataframe thead th {\n",
       "        text-align: right;\n",
       "    }\n",
       "</style>\n",
       "<table border=\"1\" class=\"dataframe\">\n",
       "  <thead>\n",
       "    <tr style=\"text-align: right;\">\n",
       "      <th></th>\n",
       "    </tr>\n",
       "  </thead>\n",
       "  <tbody>\n",
       "  </tbody>\n",
       "</table>\n",
       "</div>"
      ],
      "text/plain": [
       "Empty DataFrame\n",
       "Columns: []\n",
       "Index: []"
      ]
     },
     "execution_count": 6,
     "metadata": {},
     "output_type": "execute_result"
    }
   ],
   "source": [
    "## let's see that the tables were loaded in correctly\n",
    "sd"
   ]
  },
  {
   "cell_type": "code",
   "execution_count": null,
   "id": "4729ccae",
   "metadata": {},
   "outputs": [],
   "source": [
    "### it looks like this is an excel function, and I am having trouble using the excel function, so I am goin\n",
    "### to just calculate dat of year here: "
   ]
  },
  {
   "cell_type": "markdown",
   "id": "8cf0f998",
   "metadata": {},
   "source": [
    "### first, what days of the year do I need to use: "
   ]
  },
  {
   "cell_type": "code",
   "execution_count": 122,
   "id": "f59fa997",
   "metadata": {},
   "outputs": [],
   "source": [
    "import datetime"
   ]
  },
  {
   "cell_type": "code",
   "execution_count": 123,
   "id": "77108caf",
   "metadata": {},
   "outputs": [
    {
     "data": {
      "text/plain": [
       "[datetime.date(2023, 1, 15),\n",
       " datetime.date(2023, 2, 15),\n",
       " datetime.date(2023, 3, 15),\n",
       " datetime.date(2023, 4, 15),\n",
       " datetime.date(2023, 5, 15),\n",
       " datetime.date(2023, 6, 15),\n",
       " datetime.date(2023, 7, 15),\n",
       " datetime.date(2023, 8, 15),\n",
       " datetime.date(2023, 9, 15),\n",
       " datetime.date(2023, 10, 15),\n",
       " datetime.date(2023, 11, 15)]"
      ]
     },
     "execution_count": 123,
     "metadata": {},
     "output_type": "execute_result"
    }
   ],
   "source": [
    "dates = []\n",
    "months = np.arange(1, 12, 1)\n",
    "for m in months: dates.append(datetime.date(2023, m, 15))\n",
    "dates"
   ]
  },
  {
   "cell_type": "code",
   "execution_count": 163,
   "id": "0445c7a7",
   "metadata": {},
   "outputs": [
    {
     "data": {
      "text/plain": [
       "[15, 46, 74, 105, 135, 166, 196, 227, 258, 288, 319]"
      ]
     },
     "execution_count": 163,
     "metadata": {},
     "output_type": "execute_result"
    }
   ],
   "source": [
    "## turn into julian days\n",
    "j_day = []\n",
    "for day in dates: j_day.append(day.timetuple().tm_yday)\n",
    "j_day"
   ]
  },
  {
   "cell_type": "code",
   "execution_count": 164,
   "id": "280387b6",
   "metadata": {},
   "outputs": [],
   "source": [
    "## calculate approximate declination: \n",
    "theta = 23.5\n",
    "C = 360\n",
    "dr = 172\n",
    "dy = 365\n",
    "\n",
    "delta = []\n",
    "for day in j_day: delta.append(-theta*np.cos((C/dy)*(day +10)*(np.pi/180)))\n",
    "    \n",
    "## convert to theta\n",
    "theta_eq = []\n",
    "for d in delta: theta_eq.append(70 - d)"
   ]
  },
  {
   "cell_type": "code",
   "execution_count": 165,
   "id": "0f7f2696",
   "metadata": {},
   "outputs": [
    {
     "data": {
      "text/plain": [
       "[-21.35721447747832,\n",
       " -13.400693878256998,\n",
       " -2.92526270133955,\n",
       " 9.34225613564006,\n",
       " 18.771315262829575,\n",
       " 23.353044640250182,\n",
       " 21.603220288387348,\n",
       " 13.89464395429409,\n",
       " 2.3222732602224947,\n",
       " -9.527504616459936,\n",
       " -19.130083197443113]"
      ]
     },
     "execution_count": 165,
     "metadata": {},
     "output_type": "execute_result"
    }
   ],
   "source": [
    "delta"
   ]
  },
  {
   "cell_type": "code",
   "execution_count": 166,
   "id": "cd160f54",
   "metadata": {},
   "outputs": [
    {
     "data": {
      "text/plain": [
       "0.505628289751223"
      ]
     },
     "execution_count": 166,
     "metadata": {},
     "output_type": "execute_result"
    }
   ],
   "source": [
    "theta*np.cos((C/dy)*(80 +10)*(np.pi/180))"
   ]
  },
  {
   "cell_type": "code",
   "execution_count": 174,
   "id": "5404d73f",
   "metadata": {},
   "outputs": [
    {
     "name": "stderr",
     "output_type": "stream",
     "text": [
      "C:\\Users\\annav\\AppData\\Local\\Temp\\ipykernel_16564\\528394898.py:3: RuntimeWarning: invalid value encountered in double_scalars\n",
      "  for th in theta_eq: R_toa.append(1.36*0.7*((1/np.cos(th*(np.pi/180))**0.678)))\n"
     ]
    },
    {
     "data": {
      "text/plain": [
       "[nan,\n",
       " 4.127390885489546,\n",
       " 2.1851407721930074,\n",
       " 1.544076085378814,\n",
       " 1.3075524359067687,\n",
       " 1.2285650712503842,\n",
       " 1.2566694990533092,\n",
       " 1.4144723502961765,\n",
       " 1.8352128321493635,\n",
       " 3.0247635205591847,\n",
       " 16.281316258109587]"
      ]
     },
     "execution_count": 174,
     "metadata": {},
     "output_type": "execute_result"
    }
   ],
   "source": [
    "## now calculate R_toa\n",
    "R_toa = []\n",
    "for th in theta_eq: R_toa.append(1.36*0.7*((1/np.cos(th*(np.pi/180))**0.678))) \n",
    "R_toa"
   ]
  },
  {
   "cell_type": "code",
   "execution_count": 175,
   "id": "8d5bac3e",
   "metadata": {},
   "outputs": [],
   "source": [
    "## replace nan with 0 \n",
    "R_toa = [0 if x != x else x for x in R_toa]"
   ]
  },
  {
   "cell_type": "code",
   "execution_count": 176,
   "id": "12d6cde2",
   "metadata": {},
   "outputs": [],
   "source": [
    "### calculate forcing\n",
    "fa = 0.75\n",
    "d_albedo = 0.35 - 0.05\n",
    "forcing = []\n",
    "for r in R_toa: forcing.append(r*fa*d_albedo)"
   ]
  },
  {
   "cell_type": "code",
   "execution_count": 187,
   "id": "43b72a3b",
   "metadata": {},
   "outputs": [],
   "source": [
    "# okay so average over our summer months: \n",
    "f_avg = (forcing[6] + forcing[7] + forcing[8])/3"
   ]
  },
  {
   "cell_type": "code",
   "execution_count": 193,
   "id": "7d865dfe",
   "metadata": {},
   "outputs": [
    {
     "name": "stdout",
     "output_type": "stream",
     "text": [
      "the average global forcing due to ice sheet loss is 0.5632943351873562  W/m^2\n"
     ]
    }
   ],
   "source": [
    "## W/m^2\n",
    "tot = f_avg * (3/12) * ((3.4*10**6)/(5.1*10**8)) * 1000  # find total forcing:\n",
    "print(\"the average global forcing due to ice sheet loss is\", tot, \" W/m^2\")\n"
   ]
  },
  {
   "cell_type": "markdown",
   "id": "4c3dfee7",
   "metadata": {},
   "source": [
    "### Commentary: \n",
    "this is much smaller than the change in forcing due to to CO2 (about 3.71 w/m^2). Although small, this is still a somewhat significant amount of forcing, and the change in sea ice c"
   ]
  },
  {
   "cell_type": "markdown",
   "id": "e040c0bb",
   "metadata": {},
   "source": [
    "### calculate H sat "
   ]
  },
  {
   "cell_type": "markdown",
   "id": "457ce778",
   "metadata": {},
   "source": [
    "### Commentary: \n",
    "It appears that the calculated model fit the Dansgaard data fairly well, our model may be slightly shifted down in temperature, but overall the trend fits and is within the scale of magnitude of observed. "
   ]
  }
 ],
 "metadata": {
  "kernelspec": {
   "display_name": "Python 3 (ipykernel)",
   "language": "python",
   "name": "python3"
  },
  "language_info": {
   "codemirror_mode": {
    "name": "ipython",
    "version": 3
   },
   "file_extension": ".py",
   "mimetype": "text/x-python",
   "name": "python",
   "nbconvert_exporter": "python",
   "pygments_lexer": "ipython3",
   "version": "3.8.12"
  }
 },
 "nbformat": 4,
 "nbformat_minor": 5
}
