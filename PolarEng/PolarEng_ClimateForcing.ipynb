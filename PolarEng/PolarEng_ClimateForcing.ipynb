{
 "cells": [
  {
   "cell_type": "markdown",
   "id": "4b7f627f",
   "metadata": {},
   "source": [
    "## Anna Valentine\n",
    "### ENGG139.2: Polar Engineering, Polar Hydro\n",
    "### HW1: Climate Forcing"
   ]
  },
  {
   "cell_type": "code",
   "execution_count": 2,
   "id": "b414af6d",
   "metadata": {},
   "outputs": [],
   "source": [
    "import matplotlib.pyplot as plt\n",
    "import pandas as pd\n",
    "import numpy as np"
   ]
  },
  {
   "cell_type": "code",
   "execution_count": 3,
   "id": "c1ccb0cf",
   "metadata": {},
   "outputs": [],
   "source": [
    "## import csv into pandas dataframe\n",
    "co2 = pd.read_csv('CO2Data.csv')\n",
    "temp = pd.read_csv('TempData.csv')"
   ]
  },
  {
   "cell_type": "code",
   "execution_count": 7,
   "id": "d9b5f050",
   "metadata": {
    "scrolled": true
   },
   "outputs": [
    {
     "data": {
      "text/html": [
       "<div>\n",
       "<style scoped>\n",
       "    .dataframe tbody tr th:only-of-type {\n",
       "        vertical-align: middle;\n",
       "    }\n",
       "\n",
       "    .dataframe tbody tr th {\n",
       "        vertical-align: top;\n",
       "    }\n",
       "\n",
       "    .dataframe thead th {\n",
       "        text-align: right;\n",
       "    }\n",
       "</style>\n",
       "<table border=\"1\" class=\"dataframe\">\n",
       "  <thead>\n",
       "    <tr style=\"text-align: right;\">\n",
       "      <th></th>\n",
       "      <th>Year</th>\n",
       "      <th>CO2 (ppm)</th>\n",
       "    </tr>\n",
       "  </thead>\n",
       "  <tbody>\n",
       "    <tr>\n",
       "      <th>0</th>\n",
       "      <td>1765</td>\n",
       "      <td>282.049079</td>\n",
       "    </tr>\n",
       "    <tr>\n",
       "      <th>1</th>\n",
       "      <td>1766</td>\n",
       "      <td>282.873209</td>\n",
       "    </tr>\n",
       "    <tr>\n",
       "      <th>2</th>\n",
       "      <td>1767</td>\n",
       "      <td>283.727919</td>\n",
       "    </tr>\n",
       "    <tr>\n",
       "      <th>3</th>\n",
       "      <td>1768</td>\n",
       "      <td>283.781929</td>\n",
       "    </tr>\n",
       "    <tr>\n",
       "      <th>4</th>\n",
       "      <td>1769</td>\n",
       "      <td>283.830849</td>\n",
       "    </tr>\n",
       "    <tr>\n",
       "      <th>...</th>\n",
       "      <td>...</td>\n",
       "      <td>...</td>\n",
       "    </tr>\n",
       "    <tr>\n",
       "      <th>253</th>\n",
       "      <td>2018</td>\n",
       "      <td>408.720000</td>\n",
       "    </tr>\n",
       "    <tr>\n",
       "      <th>254</th>\n",
       "      <td>2019</td>\n",
       "      <td>411.660000</td>\n",
       "    </tr>\n",
       "    <tr>\n",
       "      <th>255</th>\n",
       "      <td>2020</td>\n",
       "      <td>414.240000</td>\n",
       "    </tr>\n",
       "    <tr>\n",
       "      <th>256</th>\n",
       "      <td>2021</td>\n",
       "      <td>416.450000</td>\n",
       "    </tr>\n",
       "    <tr>\n",
       "      <th>257</th>\n",
       "      <td>2022</td>\n",
       "      <td>418.560000</td>\n",
       "    </tr>\n",
       "  </tbody>\n",
       "</table>\n",
       "<p>258 rows × 2 columns</p>\n",
       "</div>"
      ],
      "text/plain": [
       "     Year   CO2 (ppm)\n",
       "0    1765  282.049079\n",
       "1    1766  282.873209\n",
       "2    1767  283.727919\n",
       "3    1768  283.781929\n",
       "4    1769  283.830849\n",
       "..    ...         ...\n",
       "253  2018  408.720000\n",
       "254  2019  411.660000\n",
       "255  2020  414.240000\n",
       "256  2021  416.450000\n",
       "257  2022  418.560000\n",
       "\n",
       "[258 rows x 2 columns]"
      ]
     },
     "execution_count": 7,
     "metadata": {},
     "output_type": "execute_result"
    }
   ],
   "source": [
    "## let's see that the tables were loaded in correctly\n",
    "temp\n",
    "co2"
   ]
  },
  {
   "cell_type": "markdown",
   "id": "e040c0bb",
   "metadata": {},
   "source": [
    "### Part 1: \n",
    "Use the range of warming predicted by the suite of climate models for RCP 4.5 to determine the\n",
    "range of values for λ (°C m2 W-1). As a point of reference to check your work, Young et al.3 recently\n",
    "estimated that λ ≈ 0.62 °C m2 W-1.\n",
    "\n"
   ]
  },
  {
   "cell_type": "code",
   "execution_count": 8,
   "id": "adc03fc0",
   "metadata": {},
   "outputs": [],
   "source": [
    "### This is a point calculation: \n",
    "## if we use RCP4.5 and we want to estimate for 2100, \n",
    "c_0 = 280 # ppm \n",
    "c_45 = 540   # using ppm for 2022 values from spreadsheet\n",
    "alpha = 5.35 # W / m ^2\n",
    "\n",
    "### calculate forcing\n",
    "dF = alpha * np.log(c_45 / c_0)\n",
    "\n",
    "### change in Temp, RCP4.5\n",
    "dT_lo = 1.4 # degrees C\n",
    "dT_hi = 3.3 # degrees C\n",
    "\n",
    "## calculate range of lambda values\n",
    "lam_lo = dT_lo / dF\n",
    "lam_hi = dT_hi / dF\n",
    "\n",
    "lam_mid = (lam_hi + lam_lo) /2"
   ]
  },
  {
   "cell_type": "code",
   "execution_count": 9,
   "id": "1920028a",
   "metadata": {},
   "outputs": [
    {
     "name": "stdout",
     "output_type": "stream",
     "text": [
      "The range in lambda values will be: 0.39843239396489954  to  0.9391620714886918 [degrees C*m^2 / W]\n"
     ]
    }
   ],
   "source": [
    "## these values fit \n",
    "print(\"The range in lambda values will be:\", lam_lo, \" to \", lam_hi, \"[degrees C*m^2 / W]\")"
   ]
  },
  {
   "cell_type": "markdown",
   "id": "3f6887ab",
   "metadata": {},
   "source": [
    "### Part 2: \n",
    "estimate range of expected range (dT) for each RCP."
   ]
  },
  {
   "cell_type": "code",
   "execution_count": 10,
   "id": "659f9f8f",
   "metadata": {},
   "outputs": [],
   "source": [
    "## create pandas dataframe for RCP and temp range: \n",
    "RCP_dT = pd.DataFrame(columns = ['RCP', 'C (ppm)', 'low T', 'mid T', 'high T'])\n",
    "\n",
    "RCP_dT['RCP'] = ['8.5', '6.0', 'Roy Spencer', '4.5', '2.6']\n",
    "RCP_dT['C (ppm)'] = [935, 670,580, 540, 420 ]  # RCP values of C (ppm)"
   ]
  },
  {
   "cell_type": "code",
   "execution_count": 11,
   "id": "5b934ebf",
   "metadata": {
    "scrolled": true
   },
   "outputs": [],
   "source": [
    "### calculate and fill in values for estiamted temperature\n",
    "for c in RCP_dT['C (ppm)']:\n",
    "    RCP_dT['low T'] = lam_lo * alpha * np.log(c / c_0)\n",
    "    RCP_dT['mid T'] = lam_mid * alpha * np.log(c / c_0)\n",
    "    RCP_dT['high T'] = lam_hi * alpha * np.log(c / c_0)"
   ]
  },
  {
   "cell_type": "code",
   "execution_count": 12,
   "id": "4c3b9114",
   "metadata": {
    "scrolled": true
   },
   "outputs": [
    {
     "name": "stderr",
     "output_type": "stream",
     "text": [
      "C:\\Users\\annav\\AppData\\Local\\Temp\\ipykernel_29672\\2145129264.py:4: SettingWithCopyWarning: \n",
      "A value is trying to be set on a copy of a slice from a DataFrame\n",
      "\n",
      "See the caveats in the documentation: https://pandas.pydata.org/pandas-docs/stable/user_guide/indexing.html#returning-a-view-versus-a-copy\n",
      "  RCP_dT['low T'][i] = lam_lo * alpha * np.log(c / c_0)\n",
      "C:\\Users\\annav\\AppData\\Local\\Temp\\ipykernel_29672\\2145129264.py:5: SettingWithCopyWarning: \n",
      "A value is trying to be set on a copy of a slice from a DataFrame\n",
      "\n",
      "See the caveats in the documentation: https://pandas.pydata.org/pandas-docs/stable/user_guide/indexing.html#returning-a-view-versus-a-copy\n",
      "  RCP_dT['mid T'][i] = lam_mid * alpha * np.log(c / c_0)\n",
      "C:\\Users\\annav\\AppData\\Local\\Temp\\ipykernel_29672\\2145129264.py:6: SettingWithCopyWarning: \n",
      "A value is trying to be set on a copy of a slice from a DataFrame\n",
      "\n",
      "See the caveats in the documentation: https://pandas.pydata.org/pandas-docs/stable/user_guide/indexing.html#returning-a-view-versus-a-copy\n",
      "  RCP_dT['high T'][i] = lam_hi * alpha * np.log(c / c_0)\n"
     ]
    }
   ],
   "source": [
    "### calculate and fill in values for estiamted temperature\n",
    "for i in range(len(RCP_dT['C (ppm)'])):\n",
    "    c = RCP_dT['C (ppm)'][i]\n",
    "    RCP_dT['low T'][i] = lam_lo * alpha * np.log(c / c_0)\n",
    "    RCP_dT['mid T'][i] = lam_mid * alpha * np.log(c / c_0)\n",
    "    RCP_dT['high T'][i] = lam_hi * alpha * np.log(c / c_0)"
   ]
  },
  {
   "cell_type": "markdown",
   "id": "86202706",
   "metadata": {},
   "source": [
    "### Table of RCP Values of estimated temp change"
   ]
  },
  {
   "cell_type": "code",
   "execution_count": 13,
   "id": "eee95289",
   "metadata": {
    "scrolled": true
   },
   "outputs": [
    {
     "data": {
      "text/html": [
       "<div>\n",
       "<style scoped>\n",
       "    .dataframe tbody tr th:only-of-type {\n",
       "        vertical-align: middle;\n",
       "    }\n",
       "\n",
       "    .dataframe tbody tr th {\n",
       "        vertical-align: top;\n",
       "    }\n",
       "\n",
       "    .dataframe thead th {\n",
       "        text-align: right;\n",
       "    }\n",
       "</style>\n",
       "<table border=\"1\" class=\"dataframe\">\n",
       "  <thead>\n",
       "    <tr style=\"text-align: right;\">\n",
       "      <th></th>\n",
       "      <th>RCP</th>\n",
       "      <th>C (ppm)</th>\n",
       "      <th>low T</th>\n",
       "      <th>mid T</th>\n",
       "      <th>high T</th>\n",
       "    </tr>\n",
       "  </thead>\n",
       "  <tbody>\n",
       "    <tr>\n",
       "      <th>0</th>\n",
       "      <td>8.5</td>\n",
       "      <td>935</td>\n",
       "      <td>2.570208</td>\n",
       "      <td>4.314277</td>\n",
       "      <td>6.058346</td>\n",
       "    </tr>\n",
       "    <tr>\n",
       "      <th>1</th>\n",
       "      <td>6.0</td>\n",
       "      <td>670</td>\n",
       "      <td>1.859807</td>\n",
       "      <td>3.121819</td>\n",
       "      <td>4.383831</td>\n",
       "    </tr>\n",
       "    <tr>\n",
       "      <th>2</th>\n",
       "      <td>Roy Spencer</td>\n",
       "      <td>580</td>\n",
       "      <td>1.552323</td>\n",
       "      <td>2.605685</td>\n",
       "      <td>3.659047</td>\n",
       "    </tr>\n",
       "    <tr>\n",
       "      <th>3</th>\n",
       "      <td>4.5</td>\n",
       "      <td>540</td>\n",
       "      <td>1.400000</td>\n",
       "      <td>2.350000</td>\n",
       "      <td>3.300000</td>\n",
       "    </tr>\n",
       "    <tr>\n",
       "      <th>4</th>\n",
       "      <td>2.6</td>\n",
       "      <td>420</td>\n",
       "      <td>0.864295</td>\n",
       "      <td>1.450781</td>\n",
       "      <td>2.037266</td>\n",
       "    </tr>\n",
       "  </tbody>\n",
       "</table>\n",
       "</div>"
      ],
      "text/plain": [
       "           RCP  C (ppm)     low T     mid T    high T\n",
       "0          8.5      935  2.570208  4.314277  6.058346\n",
       "1          6.0      670  1.859807  3.121819  4.383831\n",
       "2  Roy Spencer      580  1.552323  2.605685  3.659047\n",
       "3          4.5      540  1.400000  2.350000  3.300000\n",
       "4          2.6      420  0.864295  1.450781  2.037266"
      ]
     },
     "execution_count": 13,
     "metadata": {},
     "output_type": "execute_result"
    }
   ],
   "source": [
    "RCP_dT"
   ]
  },
  {
   "cell_type": "markdown",
   "id": "a30e6956",
   "metadata": {},
   "source": [
    "### Part 3: \n"
   ]
  },
  {
   "cell_type": "code",
   "execution_count": 14,
   "id": "a5ddbb03",
   "metadata": {},
   "outputs": [],
   "source": [
    "### function finds correlation value for given t0\n",
    "def find_corr(t0):\n",
    "    ### first index the temp and co2\n",
    "    temp_idx_start = temp.index[temp['Year'] == (1850 + t0)]\n",
    "    temp_idx_stop = temp.index[temp['Year'] == (2022)]\n",
    "    \n",
    "    co2_idx_start = co2.index[co2['Year'] == (1850)]\n",
    "    co2_idx_stop = co2.index[co2['Year'] == (2022 - t0)]\n",
    "    \n",
    "    ### make our lists to correlate: \n",
    "    co2_slice = co2['CO2 (ppm)'][co2_idx_start[0]: co2_idx_stop[0]]\n",
    "    temp_slice = temp['T (degC)'][temp_idx_start[0]: temp_idx_stop[0]]\n",
    "    \n",
    "    ## calculate correlation coefficient:\n",
    "    corr = np.corrcoef(co2_slice, temp_slice)\n",
    "    \n",
    "    return corr[0][1]"
   ]
  },
  {
   "cell_type": "code",
   "execution_count": 15,
   "id": "a7ee1843",
   "metadata": {},
   "outputs": [
    {
     "data": {
      "text/plain": [
       "0.883066020648856"
      ]
     },
     "execution_count": 15,
     "metadata": {},
     "output_type": "execute_result"
    }
   ],
   "source": [
    "# test\n",
    "find_corr(10)"
   ]
  },
  {
   "cell_type": "code",
   "execution_count": 16,
   "id": "1884fa4d",
   "metadata": {},
   "outputs": [],
   "source": [
    "### let's see what the correlation coeff is for many different t0:\n",
    "corr_df = pd.DataFrame(columns = ['t0', 'corr'])\n",
    "\n",
    "corr_df['t0'] = np.arange(0, 100, 1)\n",
    "\n",
    "# cycle through a range of t0\n",
    "corr_temp = []\n",
    "for t0 in corr_df['t0']:\n",
    "    corr_temp.append(find_corr(t0))\n",
    "\n",
    "corr_df['corr'] = corr_temp"
   ]
  },
  {
   "cell_type": "code",
   "execution_count": 17,
   "id": "11a68ebe",
   "metadata": {
    "scrolled": true
   },
   "outputs": [
    {
     "name": "stdout",
     "output_type": "stream",
     "text": [
      "Max Correlation Coeff:  0.883066020648856\n",
      "t0 of Max: 10    10\n",
      "Name: t0, dtype: int32\n"
     ]
    }
   ],
   "source": [
    "### find the maximum correlation value\n",
    "print(\"Max Correlation Coeff: \", corr_df['corr'].max())\n",
    "\n",
    "t0_max = corr_df['t0'][corr_df[['corr']].idxmax()]\n",
    "print(\"t0 of Max:\", t0_max)"
   ]
  },
  {
   "cell_type": "markdown",
   "id": "53448165",
   "metadata": {},
   "source": [
    "### Part 4: \n",
    "plot lagged delta T over time and compare to obs record: "
   ]
  },
  {
   "cell_type": "code",
   "execution_count": 18,
   "id": "4ca1067b",
   "metadata": {},
   "outputs": [],
   "source": [
    "# Calculate\n",
    "delT_10 = alpha*lam_mid*np.log(co2['CO2 (ppm)']/ c_0)\n",
    "\n",
    "## but now the years are off, so let's fix that: \n",
    "df_lag10 = pd.DataFrame(columns = ['Year', 'dT'])\n",
    "\n",
    "df_lag10['Year'] = co2['Year'] + 10 \n",
    "df_lag10['dT'] = delT_10"
   ]
  },
  {
   "cell_type": "code",
   "execution_count": 20,
   "id": "3eeb7107",
   "metadata": {
    "scrolled": true
   },
   "outputs": [
    {
     "data": {
      "text/plain": [
       "<matplotlib.legend.Legend at 0x1ff6f33bf10>"
      ]
     },
     "execution_count": 20,
     "metadata": {},
     "output_type": "execute_result"
    },
    {
     "data": {
      "image/png": "[encoded data removed]",
      "text/plain": [
       "<Figure size 640x480 with 1 Axes>"
      ]
     },
     "metadata": {},
     "output_type": "display_data"
    }
   ],
   "source": [
    "plt.plot(df_lag10['Year'],df_lag10['dT'],  label = 'Approx.')\n",
    "plt.plot( temp['Year'], temp['T (degC)'], label = 'Obs.')\n",
    "plt.title(\"Change in Temp.(deg C)  with lag of [t0 = 10yrs]\")\n",
    "plt.xlabel(\"Year\")\n",
    "plt.ylabel(\"Temperature Change (deg C)\")\n",
    "plt.legend()"
   ]
  },
  {
   "cell_type": "markdown",
   "id": "6e52d34f",
   "metadata": {},
   "source": [
    "### Part 5: \n",
    "use the lag correlation model to determine the CO2 concentration corresponding to a delT = 2C temp rise: "
   ]
  },
  {
   "cell_type": "code",
   "execution_count": 21,
   "id": "0dcff9e0",
   "metadata": {},
   "outputs": [
    {
     "name": "stdout",
     "output_type": "stream",
     "text": [
      "CO2 for 2 deg C temp rise:  489.6794095400994 (ppm)\n"
     ]
    }
   ],
   "source": [
    "### I can re-arrange the equation to become: \n",
    "c = c_0* np.exp(2 / (alpha*lam_mid))\n",
    "print(\"CO2 for 2 deg C temp rise: \", c, '(ppm)')"
   ]
  },
  {
   "cell_type": "code",
   "execution_count": 22,
   "id": "2081d3bf",
   "metadata": {},
   "outputs": [],
   "source": [
    "#### Make a table: \n",
    "df = pd.DataFrame(columns = ['Model', 'Year (co2= 490 ppm)'])\n",
    "df['Model'] = ['RCP 8', 'RCP 4.5', 'RCP 6.0', 'Spencer', '2.6']\n",
    "df['Year (co2= 490 ppm)'] = ['2040', '2051', '2053', '2057', 'n/a']"
   ]
  },
  {
   "cell_type": "markdown",
   "id": "854e559f",
   "metadata": {},
   "source": [
    "### Table\n",
    "table of Model vs. what year it will take to reach co2"
   ]
  },
  {
   "cell_type": "code",
   "execution_count": 202,
   "id": "390090fc",
   "metadata": {},
   "outputs": [
    {
     "data": {
      "text/html": [
       "<div>\n",
       "<style scoped>\n",
       "    .dataframe tbody tr th:only-of-type {\n",
       "        vertical-align: middle;\n",
       "    }\n",
       "\n",
       "    .dataframe tbody tr th {\n",
       "        vertical-align: top;\n",
       "    }\n",
       "\n",
       "    .dataframe thead th {\n",
       "        text-align: right;\n",
       "    }\n",
       "</style>\n",
       "<table border=\"1\" class=\"dataframe\">\n",
       "  <thead>\n",
       "    <tr style=\"text-align: right;\">\n",
       "      <th></th>\n",
       "      <th>Model</th>\n",
       "      <th>Year (co2= 490 ppm)</th>\n",
       "    </tr>\n",
       "  </thead>\n",
       "  <tbody>\n",
       "    <tr>\n",
       "      <th>0</th>\n",
       "      <td>RCP 8</td>\n",
       "      <td>2040</td>\n",
       "    </tr>\n",
       "    <tr>\n",
       "      <th>1</th>\n",
       "      <td>RCP 4.5</td>\n",
       "      <td>2051</td>\n",
       "    </tr>\n",
       "    <tr>\n",
       "      <th>2</th>\n",
       "      <td>RCP 6.0</td>\n",
       "      <td>2053</td>\n",
       "    </tr>\n",
       "    <tr>\n",
       "      <th>3</th>\n",
       "      <td>Spencer</td>\n",
       "      <td>2057</td>\n",
       "    </tr>\n",
       "    <tr>\n",
       "      <th>4</th>\n",
       "      <td>2.6</td>\n",
       "      <td>n/a</td>\n",
       "    </tr>\n",
       "  </tbody>\n",
       "</table>\n",
       "</div>"
      ],
      "text/plain": [
       "     Model Year (co2= 490 ppm)\n",
       "0    RCP 8                2040\n",
       "1  RCP 4.5                2051\n",
       "2  RCP 6.0                2053\n",
       "3  Spencer                2057\n",
       "4      2.6                 n/a"
      ]
     },
     "execution_count": 202,
     "metadata": {},
     "output_type": "execute_result"
    }
   ],
   "source": [
    "df"
   ]
  }
 ],
 "metadata": {
  "kernelspec": {
   "display_name": "Python 3 (ipykernel)",
   "language": "python",
   "name": "python3"
  },
  "language_info": {
   "codemirror_mode": {
    "name": "ipython",
    "version": 3
   },
   "file_extension": ".py",
   "mimetype": "text/x-python",
   "name": "python",
   "nbconvert_exporter": "python",
   "pygments_lexer": "ipython3",
   "version": "3.8.12"
  }
 },
 "nbformat": 4,
 "nbformat_minor": 5
}
