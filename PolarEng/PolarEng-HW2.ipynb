{
 "cells": [
  {
   "cell_type": "markdown",
   "id": "a4abf5aa",
   "metadata": {},
   "source": [
    "## Anna Valentine \n",
    "## HW2: Polar Engineering\n",
    "\n",
    "### Problem 1: Igloo! \n",
    "**a.) Use the Rule of Mixtures and the provided thermal conductivity values to design a\n",
    "snow/ice-sawdust composite material that will have thermal conductivity at least 15%\n",
    "lower than pure ice.**"
   ]
  },
  {
   "cell_type": "code",
   "execution_count": 16,
   "id": "b36f23e8",
   "metadata": {},
   "outputs": [
    {
     "name": "stdout",
     "output_type": "stream",
     "text": [
      "15% less thermal conductivity than pure ice is: 1.9975 W/m*K\n"
     ]
    }
   ],
   "source": [
    "### First, what's 15% less than ice? \n",
    "print(\"15% less thermal conductivity than pure ice is:\", 0.85*2.35, \"W/m*K\")"
   ]
  },
  {
   "cell_type": "code",
   "execution_count": 13,
   "id": "daf9d08e",
   "metadata": {},
   "outputs": [],
   "source": [
    "### Parameter Set-Up: \n",
    "# snow\n",
    "X_1 = 0.7      \n",
    "M_1 = 0.5 # W/ m*K\n",
    "# sawdust\n",
    "X_2 = 0.1\n",
    "M_2 = 0.08 # W/ m*K\n",
    "# ice \n",
    "X_3 = 0.2\n",
    "M_3 = 2.35 # W/ m*K"
   ]
  },
  {
   "cell_type": "markdown",
   "id": "7301968c",
   "metadata": {},
   "source": [
    "**Commentary:**\n",
    "I know that we need ice to get things to stick togehter, and that saw dust cannot be more than 20% of the material. This ratio seems to fit all the engineering parameters necessary and get a pretty low thermal conductivity. "
   ]
  },
  {
   "cell_type": "code",
   "execution_count": 14,
   "id": "2af62af0",
   "metadata": {},
   "outputs": [],
   "source": [
    "## Solve rule of mixtures\n",
    "K = X_1*M_1 + X_2*M_2 + X_3*M_3"
   ]
  },
  {
   "cell_type": "code",
   "execution_count": 17,
   "id": "de91223b",
   "metadata": {},
   "outputs": [
    {
     "name": "stdout",
     "output_type": "stream",
     "text": [
      "Calculated Thermal Conductivity: 0.8280000000000001 W/m*K\n"
     ]
    }
   ],
   "source": [
    "## great this is definetley more than 15% less than the thermal conductivity of ice! \n",
    "print(\"Calculated Thermal Conductivity:\", K, \"W/m*K\")"
   ]
  },
  {
   "cell_type": "code",
   "execution_count": null,
   "id": "8d9d5aa4",
   "metadata": {},
   "outputs": [],
   "source": []
  },
  {
   "cell_type": "code",
   "execution_count": null,
   "id": "adbe73e4",
   "metadata": {},
   "outputs": [],
   "source": []
  },
  {
   "cell_type": "markdown",
   "id": "40df7707",
   "metadata": {},
   "source": [
    "**b.)You obtain a robust measurement of the thermal conductivity of your snow/ice/sawdust\n",
    "material and find that the thermal conductivity is 20% lower than you calculated. This is\n",
    "great news, but you have to provide an explanation. What is the source of this\n",
    "discrepancy?**\n",
    "\n",
    "If it is 20% lower than expected I might be experiencing that when I mixed my material it metamorphised into a form that has a lower thermal conductivity than calculated because I am no longer dealing with pure ice/snow. It becomes much harder to predict thermal conductivity when these materials will metamorphise and change from what information was used for calculations as they settle.\n"
   ]
  },
  {
   "cell_type": "code",
   "execution_count": null,
   "id": "f390f099",
   "metadata": {},
   "outputs": [],
   "source": []
  },
  {
   "cell_type": "markdown",
   "id": "159de89e",
   "metadata": {},
   "source": [
    "**c.) Assuming only heat loss by conduction, how thick will the walls need to be made (using\n",
    "your composite material) in order to keep the heat flux at or below 150 W/m2 when it is\n",
    "-60 C outside? You can assume that you need to keep the inside temp at 20 C**\n",
    "\n",
    "For this I will use fourier's law: Q = -k (dT / dx) where k is thermal conductivity, dT is temperature gradient, dx is the thickness, and Q is heat flux over a given area. Doing a quick check of units, I see that I need to convert out temperatures to Kelvin, and the answer I get will be in meters. "
   ]
  },
  {
   "cell_type": "code",
   "execution_count": 19,
   "id": "d96d1020",
   "metadata": {},
   "outputs": [],
   "source": [
    "#### calculate thickness\n",
    "k = .828# W/mK\n",
    "dT = 213.15 - 293.15 # K\n",
    "Q = 125 # W/ m^2"
   ]
  },
  {
   "cell_type": "code",
   "execution_count": 20,
   "id": "c2eca888",
   "metadata": {},
   "outputs": [],
   "source": [
    "def thickness(k, dT, Q):\n",
    "    return (-k*dT)/Q"
   ]
  },
  {
   "cell_type": "code",
   "execution_count": 21,
   "id": "737bac63",
   "metadata": {},
   "outputs": [],
   "source": [
    "## call function\n",
    "th = thickness(k, dT, Q)"
   ]
  },
  {
   "cell_type": "code",
   "execution_count": 23,
   "id": "914a2726",
   "metadata": {},
   "outputs": [
    {
     "name": "stdout",
     "output_type": "stream",
     "text": [
      "the walls will need to be:  0.5299199999999997  meters thick!\n"
     ]
    }
   ],
   "source": [
    "print(\"the walls will need to be: \", th, \" meters thick!\")"
   ]
  },
  {
   "cell_type": "markdown",
   "id": "033a9ab2",
   "metadata": {},
   "source": [
    "### Problem 2: \n",
    "**Write a response to the following prompts (3 sentences each):**\n",
    "\n",
    "**i) What is the driving force for sintering?**\n",
    "Sintering is driven by the thermodynamic desire the reduce surface free energy. Gibbs free energy is minimized as a volume gets closer to a sphere (the least surface area for a given volume). \n",
    "\n",
    "**ii) What is the physical source of this driving force?**\n",
    "The physical source of this driving force lies within the idea of the gibb's free energy required to form a surface. This is caused by intermolecular interactions at interfaces, as these intermolecular bonds must be disrupted to create new surfaces (high energy cost). Materials are thermodynamically most stable when there are less disruptions to intermolecular bonding, and thus sintering occurs to \"smooth out\" the material. \n",
    "\n",
    "**iii) Describe the dominant mechanism for solid state sintering of ice.**\n",
    "The dominant mechanism for solid state sintering of ice is vapor diffusion. Diffusion is a mass transport process due to a gradient in chemical potential, and we see this in ice as evaporation/condensation. Surface energy causes a pressure difference across the curved surface and the mass will move accordingly. "
   ]
  }
 ],
 "metadata": {
  "kernelspec": {
   "display_name": "Python 3 (ipykernel)",
   "language": "python",
   "name": "python3"
  },
  "language_info": {
   "codemirror_mode": {
    "name": "ipython",
    "version": 3
   },
   "file_extension": ".py",
   "mimetype": "text/x-python",
   "name": "python",
   "nbconvert_exporter": "python",
   "pygments_lexer": "ipython3",
   "version": "3.8.12"
  }
 },
 "nbformat": 4,
 "nbformat_minor": 5
}
