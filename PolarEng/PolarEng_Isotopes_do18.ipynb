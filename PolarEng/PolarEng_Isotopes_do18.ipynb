{
 "cells": [
  {
   "cell_type": "markdown",
   "id": "4b7f627f",
   "metadata": {},
   "source": [
    "## Anna Valentine\n",
    "### ENGG139.2: Polar Engineering, Polar Hydro\n",
    "### HW2: ISOTOPES"
   ]
  },
  {
   "cell_type": "code",
   "execution_count": 2,
   "id": "b414af6d",
   "metadata": {},
   "outputs": [],
   "source": [
    "import matplotlib.pyplot as plt\n",
    "import pandas as pd\n",
    "import numpy as np"
   ]
  },
  {
   "cell_type": "code",
   "execution_count": 3,
   "id": "c1ccb0cf",
   "metadata": {},
   "outputs": [],
   "source": [
    "## import csv into pandas dataframe\n",
    "o18 = pd.read_excel('Dansgaard_d18O.xlsx')\n"
   ]
  },
  {
   "cell_type": "code",
   "execution_count": 4,
   "id": "d9b5f050",
   "metadata": {
    "scrolled": true
   },
   "outputs": [
    {
     "data": {
      "text/html": [
       "<div>\n",
       "<style scoped>\n",
       "    .dataframe tbody tr th:only-of-type {\n",
       "        vertical-align: middle;\n",
       "    }\n",
       "\n",
       "    .dataframe tbody tr th {\n",
       "        vertical-align: top;\n",
       "    }\n",
       "\n",
       "    .dataframe thead th {\n",
       "        text-align: right;\n",
       "    }\n",
       "</style>\n",
       "<table border=\"1\" class=\"dataframe\">\n",
       "  <thead>\n",
       "    <tr style=\"text-align: right;\">\n",
       "      <th></th>\n",
       "      <th>T (degC)</th>\n",
       "      <th>d18O</th>\n",
       "    </tr>\n",
       "  </thead>\n",
       "  <tbody>\n",
       "    <tr>\n",
       "      <th>0</th>\n",
       "      <td>-50.562744</td>\n",
       "      <td>-49.367190</td>\n",
       "    </tr>\n",
       "    <tr>\n",
       "      <th>1</th>\n",
       "      <td>-40.851665</td>\n",
       "      <td>-41.643547</td>\n",
       "    </tr>\n",
       "    <tr>\n",
       "      <th>2</th>\n",
       "      <td>-30.301727</td>\n",
       "      <td>-34.900833</td>\n",
       "    </tr>\n",
       "    <tr>\n",
       "      <th>3</th>\n",
       "      <td>-28.356468</td>\n",
       "      <td>-34.127495</td>\n",
       "    </tr>\n",
       "    <tr>\n",
       "      <th>4</th>\n",
       "      <td>-27.668669</td>\n",
       "      <td>-32.093136</td>\n",
       "    </tr>\n",
       "    <tr>\n",
       "      <th>5</th>\n",
       "      <td>-23.915932</td>\n",
       "      <td>-30.897224</td>\n",
       "    </tr>\n",
       "    <tr>\n",
       "      <th>6</th>\n",
       "      <td>-24.198689</td>\n",
       "      <td>-29.775484</td>\n",
       "    </tr>\n",
       "    <tr>\n",
       "      <th>7</th>\n",
       "      <td>-21.000948</td>\n",
       "      <td>-29.000889</td>\n",
       "    </tr>\n",
       "    <tr>\n",
       "      <th>8</th>\n",
       "      <td>-19.750128</td>\n",
       "      <td>-28.578876</td>\n",
       "    </tr>\n",
       "    <tr>\n",
       "      <th>9</th>\n",
       "      <td>-22.539782</td>\n",
       "      <td>-26.968763</td>\n",
       "    </tr>\n",
       "    <tr>\n",
       "      <th>10</th>\n",
       "      <td>-16.425121</td>\n",
       "      <td>-24.788715</td>\n",
       "    </tr>\n",
       "    <tr>\n",
       "      <th>11</th>\n",
       "      <td>-16.845657</td>\n",
       "      <td>-24.017744</td>\n",
       "    </tr>\n",
       "    <tr>\n",
       "      <th>12</th>\n",
       "      <td>-14.203194</td>\n",
       "      <td>-23.594340</td>\n",
       "    </tr>\n",
       "    <tr>\n",
       "      <th>13</th>\n",
       "      <td>-23.818268</td>\n",
       "      <td>-20.378150</td>\n",
       "    </tr>\n",
       "    <tr>\n",
       "      <th>14</th>\n",
       "      <td>-19.092764</td>\n",
       "      <td>-18.830635</td>\n",
       "    </tr>\n",
       "    <tr>\n",
       "      <th>15</th>\n",
       "      <td>-6.016284</td>\n",
       "      <td>-17.555258</td>\n",
       "    </tr>\n",
       "    <tr>\n",
       "      <th>16</th>\n",
       "      <td>-3.096597</td>\n",
       "      <td>-16.851067</td>\n",
       "    </tr>\n",
       "    <tr>\n",
       "      <th>17</th>\n",
       "      <td>0.375874</td>\n",
       "      <td>-15.164553</td>\n",
       "    </tr>\n",
       "    <tr>\n",
       "      <th>18</th>\n",
       "      <td>-7.282044</td>\n",
       "      <td>-14.190454</td>\n",
       "    </tr>\n",
       "    <tr>\n",
       "      <th>19</th>\n",
       "      <td>-0.326035</td>\n",
       "      <td>-13.622473</td>\n",
       "    </tr>\n",
       "    <tr>\n",
       "      <th>20</th>\n",
       "      <td>0.089522</td>\n",
       "      <td>-13.131171</td>\n",
       "    </tr>\n",
       "    <tr>\n",
       "      <th>21</th>\n",
       "      <td>0.783131</td>\n",
       "      <td>-12.569464</td>\n",
       "    </tr>\n",
       "    <tr>\n",
       "      <th>22</th>\n",
       "      <td>2.176989</td>\n",
       "      <td>-13.129080</td>\n",
       "    </tr>\n",
       "    <tr>\n",
       "      <th>23</th>\n",
       "      <td>5.648907</td>\n",
       "      <td>-11.302312</td>\n",
       "    </tr>\n",
       "    <tr>\n",
       "      <th>24</th>\n",
       "      <td>5.367535</td>\n",
       "      <td>-10.531202</td>\n",
       "    </tr>\n",
       "    <tr>\n",
       "      <th>25</th>\n",
       "      <td>8.564721</td>\n",
       "      <td>-9.616355</td>\n",
       "    </tr>\n",
       "    <tr>\n",
       "      <th>26</th>\n",
       "      <td>8.840006</td>\n",
       "      <td>-8.844687</td>\n",
       "    </tr>\n",
       "    <tr>\n",
       "      <th>27</th>\n",
       "      <td>7.307537</td>\n",
       "      <td>-8.425464</td>\n",
       "    </tr>\n",
       "    <tr>\n",
       "      <th>28</th>\n",
       "      <td>4.940082</td>\n",
       "      <td>-8.007077</td>\n",
       "    </tr>\n",
       "    <tr>\n",
       "      <th>29</th>\n",
       "      <td>7.437571</td>\n",
       "      <td>-6.111159</td>\n",
       "    </tr>\n",
       "    <tr>\n",
       "      <th>30</th>\n",
       "      <td>5.345678</td>\n",
       "      <td>-4.991231</td>\n",
       "    </tr>\n",
       "    <tr>\n",
       "      <th>31</th>\n",
       "      <td>9.810838</td>\n",
       "      <td>-8.002197</td>\n",
       "    </tr>\n",
       "    <tr>\n",
       "      <th>32</th>\n",
       "      <td>9.807795</td>\n",
       "      <td>-7.230809</td>\n",
       "    </tr>\n",
       "    <tr>\n",
       "      <th>33</th>\n",
       "      <td>12.027785</td>\n",
       "      <td>-5.545548</td>\n",
       "    </tr>\n",
       "  </tbody>\n",
       "</table>\n",
       "</div>"
      ],
      "text/plain": [
       "     T (degC)       d18O\n",
       "0  -50.562744 -49.367190\n",
       "1  -40.851665 -41.643547\n",
       "2  -30.301727 -34.900833\n",
       "3  -28.356468 -34.127495\n",
       "4  -27.668669 -32.093136\n",
       "5  -23.915932 -30.897224\n",
       "6  -24.198689 -29.775484\n",
       "7  -21.000948 -29.000889\n",
       "8  -19.750128 -28.578876\n",
       "9  -22.539782 -26.968763\n",
       "10 -16.425121 -24.788715\n",
       "11 -16.845657 -24.017744\n",
       "12 -14.203194 -23.594340\n",
       "13 -23.818268 -20.378150\n",
       "14 -19.092764 -18.830635\n",
       "15  -6.016284 -17.555258\n",
       "16  -3.096597 -16.851067\n",
       "17   0.375874 -15.164553\n",
       "18  -7.282044 -14.190454\n",
       "19  -0.326035 -13.622473\n",
       "20   0.089522 -13.131171\n",
       "21   0.783131 -12.569464\n",
       "22   2.176989 -13.129080\n",
       "23   5.648907 -11.302312\n",
       "24   5.367535 -10.531202\n",
       "25   8.564721  -9.616355\n",
       "26   8.840006  -8.844687\n",
       "27   7.307537  -8.425464\n",
       "28   4.940082  -8.007077\n",
       "29   7.437571  -6.111159\n",
       "30   5.345678  -4.991231\n",
       "31   9.810838  -8.002197\n",
       "32   9.807795  -7.230809\n",
       "33  12.027785  -5.545548"
      ]
     },
     "execution_count": 4,
     "metadata": {},
     "output_type": "execute_result"
    }
   ],
   "source": [
    "## let's see that the tables were loaded in correctly\n",
    "\n",
    "o18"
   ]
  },
  {
   "cell_type": "markdown",
   "id": "8cf0f998",
   "metadata": {},
   "source": [
    "## First, let's make our model: "
   ]
  },
  {
   "cell_type": "markdown",
   "id": "4c3dfee7",
   "metadata": {},
   "source": [
    "### calculate temp: "
   ]
  },
  {
   "cell_type": "code",
   "execution_count": 5,
   "id": "759474b6",
   "metadata": {},
   "outputs": [],
   "source": [
    "def temp(theta): \n",
    "    return -0.0046*(theta**2) - 0.3816*theta + 303.42"
   ]
  },
  {
   "cell_type": "code",
   "execution_count": 6,
   "id": "52eff14f",
   "metadata": {},
   "outputs": [],
   "source": [
    "#### okay let's make a array of the part of the earth we want to look at: \n",
    "theta = np.arange(0, 90, 1)  # start, stop, ste\n",
    "\n",
    "#### and let's calculate the temperature for that array: \n",
    "temps = []\n",
    "for th in theta: temps.append(temp(th))"
   ]
  },
  {
   "cell_type": "code",
   "execution_count": 7,
   "id": "f094f467",
   "metadata": {
    "scrolled": true
   },
   "outputs": [
    {
     "data": {
      "text/plain": [
       "array([303.42  , 303.0338, 302.6384, 302.2338, 301.82  , 301.397 ,\n",
       "       300.9648, 300.5234, 300.0728, 299.613 , 299.144 , 298.6658,\n",
       "       298.1784, 297.6818, 297.176 , 296.661 , 296.1368, 295.6034,\n",
       "       295.0608, 294.509 , 293.948 , 293.3778, 292.7984, 292.2098,\n",
       "       291.612 , 291.005 , 290.3888, 289.7634, 289.1288, 288.485 ,\n",
       "       287.832 , 287.1698, 286.4984, 285.8178, 285.128 , 284.429 ,\n",
       "       283.7208, 283.0034, 282.2768, 281.541 , 280.796 , 280.0418,\n",
       "       279.2784, 278.5058, 277.724 , 276.933 , 276.1328, 275.3234,\n",
       "       274.5048, 273.677 , 272.84  , 271.9938, 271.1384, 270.2738,\n",
       "       269.4   , 268.517 , 267.6248, 266.7234, 265.8128, 264.893 ,\n",
       "       263.964 , 263.0258, 262.0784, 261.1218, 260.156 , 259.181 ,\n",
       "       258.1968, 257.2034, 256.2008, 255.189 , 254.168 , 253.1378,\n",
       "       252.0984, 251.0498, 249.992 , 248.925 , 247.8488, 246.7634,\n",
       "       245.6688, 244.565 , 243.452 , 242.3298, 241.1984, 240.0578,\n",
       "       238.908 , 237.749 , 236.5808, 235.4034, 234.2168, 233.021 ])"
      ]
     },
     "execution_count": 7,
     "metadata": {},
     "output_type": "execute_result"
    }
   ],
   "source": [
    "np.float_(temps)"
   ]
  },
  {
   "cell_type": "markdown",
   "id": "e040c0bb",
   "metadata": {},
   "source": [
    "### calculate H sat "
   ]
  },
  {
   "cell_type": "code",
   "execution_count": 8,
   "id": "adc03fc0",
   "metadata": {},
   "outputs": [],
   "source": [
    "### define our parameters: \n",
    "del_H = 40650 ## J / mol\n",
    "H_0 = 22.9   # g/m^3\n",
    "R = 8.3145\n",
    "T_0 = 298 # Kelvin"
   ]
  },
  {
   "cell_type": "code",
   "execution_count": 9,
   "id": "1920028a",
   "metadata": {},
   "outputs": [],
   "source": [
    "### function to calculate H_sat\n",
    "def h_sat_calc(del_H, H_0, R, T_0, T):\n",
    "    h_sat_result = H_0 * np.exp((del_H/R)*((1/T_0)-(1/T)))\n",
    "    return h_sat_result"
   ]
  },
  {
   "cell_type": "code",
   "execution_count": 10,
   "id": "6806c7e6",
   "metadata": {},
   "outputs": [],
   "source": [
    "#### now that we know temp, and have a function to calculate h_sat:\n",
    "\n",
    "## h_sat @ EQUATOR ( I know it's the first in my temps array)\n",
    "h_sat_eq = h_sat_calc(del_H, H_0, R, T_0, temps[0])\n",
    "\n",
    "## h_sat for each lattitude (temp): \n",
    "h_sat = []\n",
    "for t in temps: h_sat.append(h_sat_calc(del_H, H_0, R, T_0, t))"
   ]
  },
  {
   "cell_type": "code",
   "execution_count": 11,
   "id": "b8944d56",
   "metadata": {},
   "outputs": [],
   "source": [
    "## finally, our array for F: \n",
    "F = h_sat / h_sat_eq"
   ]
  },
  {
   "cell_type": "markdown",
   "id": "cd22b746",
   "metadata": {},
   "source": [
    "### calculate variation in rain-out of O18: "
   ]
  },
  {
   "cell_type": "code",
   "execution_count": 12,
   "id": "90c4a992",
   "metadata": {},
   "outputs": [],
   "source": [
    "### parameters: \n",
    "alpha_lv = 1.0094\n",
    "d0_vap = -9.356"
   ]
  },
  {
   "cell_type": "code",
   "execution_count": 13,
   "id": "89e4e46d",
   "metadata": {},
   "outputs": [],
   "source": [
    "### calculate do18\n",
    "do18 = alpha_lv * (F**(alpha_lv - 1)) * (1000 + d0_vap) - 1000"
   ]
  },
  {
   "cell_type": "markdown",
   "id": "a30e6956",
   "metadata": {},
   "source": [
    "## plotting\n"
   ]
  },
  {
   "cell_type": "code",
   "execution_count": 15,
   "id": "3eeb7107",
   "metadata": {
    "scrolled": false
   },
   "outputs": [
    {
     "data": {
      "text/plain": [
       "<matplotlib.legend.Legend at 0x18147ebc2b0>"
      ]
     },
     "execution_count": 15,
     "metadata": {},
     "output_type": "execute_result"
    },
    {
     "data": {
      "image/png": "[encoded data removed]",
      "text/plain": [
       "<Figure size 640x480 with 1 Axes>"
      ]
     },
     "metadata": {},
     "output_type": "display_data"
    }
   ],
   "source": [
    "### just theta vs. do18\n",
    "plt.plot(theta, do18,  label = 'lattitude vs. do18')\n",
    "plt.title(\"Variation in Rainout with Lattitude\")\n",
    "plt.xlabel(\"lattitude\")\n",
    "plt.ylabel(\"do18\")\n",
    "plt.legend()"
   ]
  },
  {
   "cell_type": "code",
   "execution_count": 16,
   "id": "311c5e4d",
   "metadata": {},
   "outputs": [
    {
     "data": {
      "text/plain": [
       "<matplotlib.legend.Legend at 0x18147ae40d0>"
      ]
     },
     "execution_count": 16,
     "metadata": {},
     "output_type": "execute_result"
    },
    {
     "data": {
      "image/png": "[encoded data removed]",
      "text/plain": [
       "<Figure size 640x480 with 1 Axes>"
      ]
     },
     "metadata": {},
     "output_type": "display_data"
    }
   ],
   "source": [
    "### temp and do18 vs data given: \n",
    "plt.plot(o18['T (degC)'], o18['d18O'], label = 'Dansgaard')\n",
    "plt.plot(np.float_(temps)-273.15, do18,  label = 'calculated model')\n",
    "plt.title(\"do18 vs. temp model comparison to observed results\")\n",
    "plt.xlabel(\"Temp (degC)\")\n",
    "plt.ylabel(\"do18\")\n",
    "plt.legend()"
   ]
  },
  {
   "cell_type": "markdown",
   "id": "457ce778",
   "metadata": {},
   "source": [
    "### Commentary: \n",
    "It appears that the calculated model fit the Dansgaard data fairly well, our model may be slightly shifted down in temperature, but overall the trend fits and is within the scale of magnitude of observed. "
   ]
  }
 ],
 "metadata": {
  "kernelspec": {
   "display_name": "Python 3 (ipykernel)",
   "language": "python",
   "name": "python3"
  },
  "language_info": {
   "codemirror_mode": {
    "name": "ipython",
    "version": 3
   },
   "file_extension": ".py",
   "mimetype": "text/x-python",
   "name": "python",
   "nbconvert_exporter": "python",
   "pygments_lexer": "ipython3",
   "version": "3.8.12"
  }
 },
 "nbformat": 4,
 "nbformat_minor": 5
}
